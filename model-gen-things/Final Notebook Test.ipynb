{
 "cells": [
  {
   "cell_type": "code",
   "execution_count": 1,
   "metadata": {},
   "outputs": [
    {
     "name": "stdout",
     "output_type": "stream",
     "text": [
      "Jupyter environment detected. Enabling Open3D WebVisualizer.\n",
      "[Open3D INFO] WebRTC GUI backend enabled.\n",
      "[Open3D INFO] WebRTCWindowSystem: HTTP handshake server disabled.\n"
     ]
    }
   ],
   "source": [
    "import open3d as o3d\n",
    "import numpy as np\n",
    "#replace with proper io once implementation happens\n",
    "filepath = './Point Clouds/set 1/brandon slow.ply'\n",
    "pcd = o3d.io.read_point_cloud(filepath)"
   ]
  },
  {
   "cell_type": "code",
   "execution_count": 2,
   "metadata": {},
   "outputs": [],
   "source": [
    "#pcd.paint_uniform_color([0.4,0.9,0.2])\n",
    "#o3d.visualization.draw_geometries([pcd])"
   ]
  },
  {
   "cell_type": "code",
   "execution_count": 41,
   "metadata": {},
   "outputs": [
    {
     "name": "stdout",
     "output_type": "stream",
     "text": [
      "PointCloud with 1001813 points.\n"
     ]
    }
   ],
   "source": [
    "#Error handling will come when this notebook is converted into a script.\n",
    "if(pcd.has_points() == False):\n",
    "    print(\"There was a problem while opening the Point Cloud file.\")\n",
    "else:\n",
    "    print(pcd)\n",
    "#print(np.asarray(pcd.points))\n"
   ]
  },
  {
   "cell_type": "code",
   "execution_count": 42,
   "metadata": {},
   "outputs": [
    {
     "name": "stdout",
     "output_type": "stream",
     "text": [
      "Processing...\n",
      "Floor Cropped\n"
     ]
    }
   ],
   "source": [
    "#Floor remover: find plane and cut everything below it (Note: nothing ensures the selected plane is horizontal)\n",
    "print(\"Processing...\")\n",
    "plane_model, inliers = pcd.segment_plane(distance_threshold=0.003,\n",
    "                                         ransac_n=5,\n",
    "                                         num_iterations=2000)\n",
    "#assemble inlier cloud (contains the segmented plane)\n",
    "inlier_cloud = pcd.select_by_index(inliers)\n",
    "\n",
    "#Get points for bounding box of both inliers and the cloud\n",
    "box = pcd.get_axis_aligned_bounding_box()\n",
    "inlierbox = inlier_cloud.get_axis_aligned_bounding_box()\n",
    "bounds = np.asarray(box.get_box_points())\n",
    "inlierbounds = np.asarray(inlierbox.get_box_points())\n",
    "bounds = bounds[bounds[:,2].argsort()]\n",
    "inlierbounds = inlierbounds[inlierbounds[:,2].argsort()]\n",
    "#Change bounds of inlier cloud to the lower bound of the main cloud, and then crop\n",
    "for i in range(4):\n",
    "    bounds[(i+4)][2]= inlierbounds[(i+4)][2]\n",
    "cpcd = pcd.crop(o3d.geometry.AxisAlignedBoundingBox.create_from_points(o3d.utility.Vector3dVector(bounds)), invert=True)\n",
    "print(\"Floor Cropped\")\n",
    "temp = cpcd"
   ]
  },
  {
   "cell_type": "code",
   "execution_count": 61,
   "metadata": {},
   "outputs": [
    {
     "name": "stdout",
     "output_type": "stream",
     "text": [
      "Beginning Denoise...\n",
      "PointCloud with 166972 points.\n",
      "PointCloud with 162870 points.\n",
      "PointCloud with 162285 points.\n",
      "PointCloud with 160393 points.\n",
      "PointCloud with 159427 points.\n",
      "Denoise Complete\n"
     ]
    }
   ],
   "source": [
    "cpcd = temp\n",
    "#Point Cloud Denoising: not sophisticated. Better methods than running the same function with a bunch of different parameters exist\n",
    "print(\"Beginning Denoise...\")\n",
    "cpcd, ind = cpcd.remove_statistical_outlier(nb_neighbors=15,\n",
    "                                                    std_ratio=1.9)\n",
    "print(cpcd)\n",
    "cpcd, ind = cpcd.remove_statistical_outlier(nb_neighbors=20,\n",
    "                                                    std_ratio=1.7)\n",
    "print(cpcd)\n",
    "cpcd, ind = cpcd.remove_statistical_outlier(nb_neighbors=25,\n",
    "                                                    std_ratio=1.6)\n",
    "print(cpcd)\n",
    "cpcd, ind = cpcd.remove_statistical_outlier(nb_neighbors=100,\n",
    "                                                    std_ratio=1.2)\n",
    "print(cpcd)\n",
    "cpcd, ind = cpcd.remove_statistical_outlier(nb_neighbors=85,\n",
    "                                                    std_ratio=1.3)\n",
    "print(cpcd)\n",
    "print(\"Denoise Complete\")"
   ]
  },
  {
   "cell_type": "code",
   "execution_count": 62,
   "metadata": {},
   "outputs": [
    {
     "name": "stdout",
     "output_type": "stream",
     "text": [
      "[Open3D WARNING] GLFW Error: WGL: Failed to make context current: The requested transformation operation is not supported. \n",
      "[Open3D WARNING] GLFW Error: WGL: Failed to make context current: The handle is invalid. \n",
      "[Open3D WARNING] GLFW Error: WGL: Failed to make context current: The requested transformation operation is not supported. \n"
     ]
    }
   ],
   "source": [
    "cloud_low_bound = cpcd.get_min_bound()[2]\n",
    "o3d.visualization.draw_geometries([cpcd])"
   ]
  },
  {
   "cell_type": "code",
   "execution_count": 24,
   "metadata": {},
   "outputs": [],
   "source": [
    "#Reconstruction: algorithm requires normals\n",
    "print(\"Generating Model...\")\n",
    "cpcd.estimate_normals(search_param=o3d.geometry.KDTreeSearchParamHybrid(radius=0.5, max_nn=30))\n",
    "d = 7\n",
    "pmesh, densities = o3d.geometry.TriangleMesh.create_from_point_cloud_poisson(cpcd, depth=d, linear_fit=True)\n",
    "print(\"Generation Complete\") \n",
    "print(\"Final Cleanup...\")\n",
    "#Unsophisticated Extra trimming: cuts up the feet. revision needed.\n",
    "meshbounds = np.asarray(pmesh.get_axis_aligned_bounding_box().get_box_points())\n",
    "meshbounds = meshbounds[meshbounds[:,2].argsort()]\n",
    "for i in range(4):\n",
    "    meshbounds[i][2] = cloud_low_bound\n",
    "cpmesh = pmesh.crop(o3d.geometry.AxisAlignedBoundingBox.create_from_points(o3d.utility.Vector3dVector(meshbounds)))"
   ]
  },
  {
   "cell_type": "code",
   "execution_count": 25,
   "metadata": {},
   "outputs": [
    {
     "name": "stdout",
     "output_type": "stream",
     "text": [
      "TriangleMesh with 4661 points and 9003 triangles.\n"
     ]
    }
   ],
   "source": [
    "#Temporary Output.\n",
    "print(cpmesh)\n",
    "cpmesh.paint_uniform_color([0.1,0.7,0.5])\n",
    "o3d.visualization.draw_geometries([cpmesh], mesh_show_wireframe=True)"
   ]
  }
 ],
 "metadata": {
  "kernelspec": {
   "display_name": ".venv",
   "language": "python",
   "name": "python3"
  },
  "language_info": {
   "codemirror_mode": {
    "name": "ipython",
    "version": 3
   },
   "file_extension": ".py",
   "mimetype": "text/x-python",
   "name": "python",
   "nbconvert_exporter": "python",
   "pygments_lexer": "ipython3",
   "version": "3.11.1"
  }
 },
 "nbformat": 4,
 "nbformat_minor": 2
}
