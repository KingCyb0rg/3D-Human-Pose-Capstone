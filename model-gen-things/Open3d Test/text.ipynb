{
 "cells": [
  {
   "cell_type": "code",
   "execution_count": 26,
   "metadata": {},
   "outputs": [],
   "source": [
    "import open3d as o3d\n",
    "import numpy as np\n",
    "\n",
    "filepath = './Demo/Lloyd PC.ply'\n",
    "pcd = o3d.io.read_point_cloud(filepath)"
   ]
  },
  {
   "cell_type": "code",
   "execution_count": null,
   "metadata": {},
   "outputs": [],
   "source": [
    "#pcd.paint_uniform_color([0.4,0.9,0.2])\n",
    "#o3d.visualization.draw_geometries([pcd])"
   ]
  },
  {
   "cell_type": "code",
   "execution_count": 27,
   "metadata": {},
   "outputs": [
    {
     "name": "stdout",
     "output_type": "stream",
     "text": [
      "PointCloud with 1003510 points.\n",
      "[[-0.65949464  0.83651191 -0.83541268]\n",
      " [-0.12086892  0.04687786 -0.55958313]\n",
      " [-0.03233266 -0.67470443 -0.69881791]\n",
      " ...\n",
      " [-0.31737113  0.47792697 -0.69495457]\n",
      " [-0.5055514   0.23335868 -0.68829918]\n",
      " [-0.07477051 -0.05247402  0.08733849]]\n"
     ]
    }
   ],
   "source": [
    "print(pcd)\n",
    "print(np.asarray(pcd.points))"
   ]
  },
  {
   "cell_type": "code",
   "execution_count": 28,
   "metadata": {},
   "outputs": [
    {
     "data": {
      "text/plain": [
       "PointCloud with 365276 points."
      ]
     },
     "execution_count": 28,
     "metadata": {},
     "output_type": "execute_result"
    }
   ],
   "source": [
    "#Floor remover: find plane and cut everything below it\n",
    "plane_model, inliers = pcd.segment_plane(distance_threshold=0.003,\n",
    "                                         ransac_n=5,\n",
    "                                         num_iterations=2000)\n",
    "\n",
    "inlier_cloud = pcd.select_by_index(inliers)\n",
    "inlier_cloud.paint_uniform_color([1.0, 0, 0])\n",
    "#box = inlier_cloud.get_axis_aligned_bounding_box() #Creates bounding box for point cloud\n",
    "#bounds = np.asarray(box.get_box_points()) #Get points for bounding box\n",
    "#bounds = bounds[bounds[:,2].argsort()]\n",
    "#for i in range(4):\n",
    "#    bounds[i][2] = pcd.get_min_bound()[2]\n",
    "#cpcd = pcd.crop(o3d.geometry.AxisAlignedBoundingBox.create_from_points(o3d.utility.Vector3dVector(bounds)), invert=True)"
   ]
  },
  {
   "cell_type": "code",
   "execution_count": 29,
   "metadata": {},
   "outputs": [],
   "source": [
    "box = pcd.get_axis_aligned_bounding_box() #Creates bounding box for point cloud\n",
    "inlierbox = inlier_cloud.get_axis_aligned_bounding_box()\n",
    "bounds = np.asarray(box.get_box_points()) #Get points for bounding box\n",
    "inlierbounds = np.asarray(inlierbox.get_box_points())\n",
    "bounds = bounds[bounds[:,2].argsort()]\n",
    "inlierbounds = inlierbounds[inlierbounds[:,2].argsort()]\n",
    "\n",
    "for i in range(4):\n",
    "    bounds[(i+4)][2]= inlierbounds[(i+4)][2]\n",
    "cpcd = pcd.crop(o3d.geometry.AxisAlignedBoundingBox.create_from_points(o3d.utility.Vector3dVector(bounds)), invert=True)"
   ]
  },
  {
   "cell_type": "code",
   "execution_count": null,
   "metadata": {},
   "outputs": [],
   "source": [
    "cpcd, ind = cpcd.remove_statistical_outlier(nb_neighbors=15,\n",
    "                                                    std_ratio=2.0)\n",
    "print(cpcd)"
   ]
  },
  {
   "cell_type": "code",
   "execution_count": null,
   "metadata": {},
   "outputs": [],
   "source": [
    "cpcd, ind = cpcd.remove_statistical_outlier(nb_neighbors=20,\n",
    "                                                    std_ratio=1.7)\n",
    "print(cpcd)"
   ]
  },
  {
   "cell_type": "code",
   "execution_count": null,
   "metadata": {},
   "outputs": [],
   "source": [
    "cpcd, ind = cpcd.remove_statistical_outlier(nb_neighbors=25,\n",
    "                                                    std_ratio=1.7)\n",
    "print(cpcd)"
   ]
  },
  {
   "cell_type": "code",
   "execution_count": 30,
   "metadata": {},
   "outputs": [
    {
     "name": "stdout",
     "output_type": "stream",
     "text": [
      "[Open3D WARNING] GLFW Error: WGL: Failed to make context current: The handle is invalid. \n"
     ]
    }
   ],
   "source": [
    "o3d.visualization.draw_geometries([cpcd])"
   ]
  },
  {
   "cell_type": "code",
   "execution_count": 31,
   "metadata": {},
   "outputs": [],
   "source": [
    "cpcd.estimate_normals(\n",
    "    search_param=o3d.geometry.KDTreeSearchParamHybrid(radius=0.5, max_nn=30))\n",
    "o3d.visualization.draw_geometries([cpcd],\n",
    "                                  point_show_normal=True)"
   ]
  },
  {
   "cell_type": "code",
   "execution_count": 32,
   "metadata": {},
   "outputs": [],
   "source": [
    "d = 7\n",
    "pmesh, densities = o3d.geometry.TriangleMesh.create_from_point_cloud_poisson(cpcd, depth=d)"
   ]
  },
  {
   "cell_type": "code",
   "execution_count": 33,
   "metadata": {},
   "outputs": [
    {
     "name": "stdout",
     "output_type": "stream",
     "text": [
      "TriangleMesh with 6379 points and 12666 triangles.\n"
     ]
    }
   ],
   "source": [
    "print(pmesh)"
   ]
  },
  {
   "cell_type": "code",
   "execution_count": 34,
   "metadata": {},
   "outputs": [],
   "source": [
    "pmesh.paint_uniform_color([0.1,0.7,0.5])\n",
    "o3d.visualization.draw_geometries([pmesh], mesh_show_wireframe=True)"
   ]
  }
 ],
 "metadata": {
  "kernelspec": {
   "display_name": ".venv",
   "language": "python",
   "name": "python3"
  },
  "language_info": {
   "codemirror_mode": {
    "name": "ipython",
    "version": 3
   },
   "file_extension": ".py",
   "mimetype": "text/x-python",
   "name": "python",
   "nbconvert_exporter": "python",
   "pygments_lexer": "ipython3",
   "version": "3.11.1"
  }
 },
 "nbformat": 4,
 "nbformat_minor": 2
}
