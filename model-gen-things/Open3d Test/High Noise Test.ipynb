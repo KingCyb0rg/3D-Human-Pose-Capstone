{
 "cells": [
  {
   "cell_type": "code",
   "execution_count": 1,
   "metadata": {},
   "outputs": [
    {
     "name": "stdout",
     "output_type": "stream",
     "text": [
      "Jupyter environment detected. Enabling Open3D WebVisualizer.\n",
      "[Open3D INFO] WebRTC GUI backend enabled.\n",
      "[Open3D INFO] WebRTCWindowSystem: HTTP handshake server disabled.\n"
     ]
    }
   ],
   "source": [
    "import open3d as o3d\n",
    "import numpy as np\n",
    "\n",
    "filepath = './Demo/cloudscloudscloudsclouds/brandon_fast/brandon_5_8_fast.ply'\n",
    "pcd = o3d.io.read_point_cloud(filepath)"
   ]
  },
  {
   "cell_type": "code",
   "execution_count": 2,
   "metadata": {},
   "outputs": [],
   "source": [
    "#pcd.paint_uniform_color([0.4,0.9,0.2])\n",
    "#o3d.visualization.draw_geometries([pcd])"
   ]
  },
  {
   "cell_type": "code",
   "execution_count": 3,
   "metadata": {},
   "outputs": [
    {
     "name": "stdout",
     "output_type": "stream",
     "text": [
      "PointCloud with 1001813 points.\n",
      "[[ 0.42494208 -0.400855   -0.2942968 ]\n",
      " [-0.03724247  0.14489147 -0.28252417]\n",
      " [ 0.13546094  0.28197092 -0.29478168]\n",
      " ...\n",
      " [ 0.45157975 -0.04539937 -0.28279302]\n",
      " [-0.17483065  0.93568194 -0.24286169]\n",
      " [-0.830616   -0.34507227 -0.28207886]]\n"
     ]
    }
   ],
   "source": [
    "print(pcd)\n",
    "print(np.asarray(pcd.points))"
   ]
  },
  {
   "cell_type": "code",
   "execution_count": 4,
   "metadata": {},
   "outputs": [
    {
     "data": {
      "text/plain": [
       "PointCloud with 236519 points."
      ]
     },
     "execution_count": 4,
     "metadata": {},
     "output_type": "execute_result"
    }
   ],
   "source": [
    "#Floor remover: find plane and cut everything below it\n",
    "plane_model, inliers = pcd.segment_plane(distance_threshold=0.003,\n",
    "                                         ransac_n=5,\n",
    "                                         num_iterations=2000)\n",
    "\n",
    "inlier_cloud = pcd.select_by_index(inliers)\n",
    "inlier_cloud.paint_uniform_color([1.0, 0, 0])\n",
    "#box = inlier_cloud.get_axis_aligned_bounding_box() #Creates bounding box for point cloud\n",
    "#bounds = np.asarray(box.get_box_points()) #Get points for bounding box\n",
    "#bounds = bounds[bounds[:,2].argsort()]\n",
    "#for i in range(4):\n",
    "#    bounds[i][2] = pcd.get_min_bound()[2]\n",
    "#cpcd = pcd.crop(o3d.geometry.AxisAlignedBoundingBox.create_from_points(o3d.utility.Vector3dVector(bounds)), invert=True)"
   ]
  },
  {
   "cell_type": "code",
   "execution_count": 5,
   "metadata": {},
   "outputs": [],
   "source": [
    "box = pcd.get_axis_aligned_bounding_box() #Creates bounding box for point cloud\n",
    "inlierbox = inlier_cloud.get_axis_aligned_bounding_box()\n",
    "bounds = np.asarray(box.get_box_points()) #Get points for bounding box\n",
    "inlierbounds = np.asarray(inlierbox.get_box_points())\n",
    "bounds = bounds[bounds[:,2].argsort()]\n",
    "inlierbounds = inlierbounds[inlierbounds[:,2].argsort()]\n",
    "\n",
    "for i in range(4):\n",
    "    bounds[(i+4)][2]= inlierbounds[(i+4)][2]\n",
    "cpcd = pcd.crop(o3d.geometry.AxisAlignedBoundingBox.create_from_points(o3d.utility.Vector3dVector(bounds)), invert=True)"
   ]
  },
  {
   "cell_type": "code",
   "execution_count": 6,
   "metadata": {},
   "outputs": [
    {
     "name": "stdout",
     "output_type": "stream",
     "text": [
      "PointCloud with 194826 points.\n"
     ]
    }
   ],
   "source": [
    "cpcd, ind = cpcd.remove_statistical_outlier(nb_neighbors=15,\n",
    "                                                    std_ratio=2.0)\n",
    "print(cpcd)"
   ]
  },
  {
   "cell_type": "code",
   "execution_count": 7,
   "metadata": {},
   "outputs": [
    {
     "name": "stdout",
     "output_type": "stream",
     "text": [
      "PointCloud with 181771 points.\n"
     ]
    }
   ],
   "source": [
    "cpcd, ind = cpcd.remove_statistical_outlier(nb_neighbors=20,\n",
    "                                                    std_ratio=1.7)\n",
    "print(cpcd)"
   ]
  },
  {
   "cell_type": "code",
   "execution_count": 8,
   "metadata": {},
   "outputs": [
    {
     "name": "stdout",
     "output_type": "stream",
     "text": [
      "PointCloud with 178246 points.\n"
     ]
    }
   ],
   "source": [
    "cpcd, ind = cpcd.remove_statistical_outlier(nb_neighbors=25,\n",
    "                                                    std_ratio=1.6)\n",
    "print(cpcd)"
   ]
  },
  {
   "cell_type": "code",
   "execution_count": 9,
   "metadata": {},
   "outputs": [],
   "source": [
    "cpcd, ind = cpcd.remove_statistical_outlier(nb_neighbors=100,\n",
    "                                                    std_ratio=1.3)\n",
    "cpcd, ind = cpcd.remove_statistical_outlier(nb_neighbors=85,\n",
    "                                                    std_ratio=1.6)\n",
    "cpcd, ind = cpcd.remove_statistical_outlier(nb_neighbors=85,\n",
    "                                                    std_ratio=1.4)"
   ]
  },
  {
   "cell_type": "code",
   "execution_count": 10,
   "metadata": {},
   "outputs": [],
   "source": [
    "cloud_low_bound = cpcd.get_min_bound()[2]\n",
    "o3d.visualization.draw_geometries([cpcd])"
   ]
  },
  {
   "cell_type": "code",
   "execution_count": 11,
   "metadata": {},
   "outputs": [],
   "source": [
    "cpcd.estimate_normals(\n",
    "    search_param=o3d.geometry.KDTreeSearchParamHybrid(radius=0.5, max_nn=30))\n",
    "#o3d.visualization.draw_geometries([cpcd],\n",
    "  #                                point_show_normal=True)"
   ]
  },
  {
   "cell_type": "code",
   "execution_count": 19,
   "metadata": {},
   "outputs": [],
   "source": [
    "d = 7\n",
    "pmesh, densities = o3d.geometry.TriangleMesh.create_from_point_cloud_poisson(cpcd, depth=d, linear_fit=True)\n",
    "#WIP\n",
    "#meshbounds = np.asarray(pmesh.get_axis_aligned_bounding_box().get_box_points())\n",
    "#meshbounds = meshbounds[meshbounds[:,2].argsort()]\n",
    "#for i in range(4):\n",
    "#    meshbounds[(i+4)][2] = cloud_low_bound\n",
    "#cpmesh = pmesh.crop(o3d.geometry.AxisAlignedBoundingBox.create_from_points(o3d.utility.Vector3dVector(meshbounds)), invert=True)"
   ]
  },
  {
   "cell_type": "code",
   "execution_count": 20,
   "metadata": {},
   "outputs": [
    {
     "name": "stdout",
     "output_type": "stream",
     "text": [
      "TriangleMesh with 6657 points and 13186 triangles.\n"
     ]
    }
   ],
   "source": [
    "print(pmesh)\n",
    "#print(cpmesh)"
   ]
  },
  {
   "cell_type": "code",
   "execution_count": 21,
   "metadata": {},
   "outputs": [],
   "source": [
    "pmesh.paint_uniform_color([0.1,0.7,0.5])\n",
    "o3d.visualization.draw_geometries([pmesh], mesh_show_wireframe=True)\n",
    "#cpmesh.paint_uniform_color([0.1,0.7,0.5])\n",
    "#o3d.visualization.draw_geometries([cpmesh], mesh_show_wireframe=True)"
   ]
  }
 ],
 "metadata": {
  "kernelspec": {
   "display_name": ".venv",
   "language": "python",
   "name": "python3"
  },
  "language_info": {
   "codemirror_mode": {
    "name": "ipython",
    "version": 3
   },
   "file_extension": ".py",
   "mimetype": "text/x-python",
   "name": "python",
   "nbconvert_exporter": "python",
   "pygments_lexer": "ipython3",
   "version": "3.11.1"
  }
 },
 "nbformat": 4,
 "nbformat_minor": 2
}
