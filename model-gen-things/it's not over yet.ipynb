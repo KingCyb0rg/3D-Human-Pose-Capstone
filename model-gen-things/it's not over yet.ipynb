{
 "cells": [
  {
   "cell_type": "code",
   "execution_count": 1,
   "metadata": {},
   "outputs": [
    {
     "name": "stdout",
     "output_type": "stream",
     "text": [
      "Jupyter environment detected. Enabling Open3D WebVisualizer.\n",
      "[Open3D INFO] WebRTC GUI backend enabled.\n",
      "[Open3D INFO] WebRTCWindowSystem: HTTP handshake server disabled.\n"
     ]
    }
   ],
   "source": [
    "import open3d as o3d\n",
    "import numpy as np\n",
    "import pandas\n",
    "from timeit import default_timer as time\n",
    "from data_extraction import dataExtract\n",
    "from xenon_reconstruct_extract import reconstruct_extract\n",
    "from xenon_reconstruct_extract import build_path\n",
    "import tylmen_api_functions\n",
    "import os\n",
    "import requests\n",
    "\n",
    "filepath = './Point Clouds/set 1/brandon slow.ply'\n",
    "pcd = o3d.io.read_point_cloud(filepath)"
   ]
  },
  {
   "cell_type": "code",
   "execution_count": null,
   "metadata": {},
   "outputs": [],
   "source": [
    "path = build_path()\n",
    "plypath = os.path.join(path, 'pointcloud.ply')\n",
    "meshpath = os.path.join(path, 'mesh.obj')\n",
    "dfpath = os.path.join(path, 'measurements.csv')\n",
    "abspath = os.path.abspath(path)\n",
    "print(path + \"\\n\" + plypath + \"\\n\" + meshpath + \"\\n\" + dfpath + \"\\n\" + abspath)"
   ]
  },
  {
   "cell_type": "code",
   "execution_count": null,
   "metadata": {},
   "outputs": [],
   "source": [
    "api_test_path = \"C:/Users/night/Documents/current/Senior Design/bucktest.mp4\"\n",
    "dotmov = open(api_test_path, 'rb')\n",
    "tylmen_api_functions.api_upload_mov(dotmov)\n",
    "dotmov.close()"
   ]
  },
  {
   "cell_type": "code",
   "execution_count": 3,
   "metadata": {},
   "outputs": [
    {
     "name": "stdout",
     "output_type": "stream",
     "text": [
      "\n"
     ]
    }
   ],
   "source": [
    "\n",
    "status_url = \"http://3.145.59.0:8000/api/check_status/\"\n",
    "#tylmen_api_functions.api_get_sane_status(status_url)\n",
    "status_resp = requests.get(status_url)\n",
    "print(status_resp.text)"
   ]
  },
  {
   "cell_type": "code",
   "execution_count": null,
   "metadata": {},
   "outputs": [],
   "source": [
    "api_output = tylmen_api_functions.api_download_pipe()"
   ]
  },
  {
   "cell_type": "code",
   "execution_count": 6,
   "metadata": {},
   "outputs": [],
   "source": [
    "download_url = \"http://3.145.59.0:8000/api/download_ply/\"\n",
    "down_resp = requests.get(download_url)"
   ]
  },
  {
   "cell_type": "code",
   "execution_count": 7,
   "metadata": {},
   "outputs": [
    {
     "name": "stdout",
     "output_type": "stream",
     "text": [
      "<!DOCTYPE html>\n",
      "<html lang=\"en\">\n",
      "<head>\n",
      "  <meta http-equiv=\"content-type\" content=\"text/html; charset=utf-8\">\n",
      "  <title>Page not found at /api/download_ply/buck1.ply</title>\n",
      "  <meta name=\"robots\" content=\"NONE,NOARCHIVE\">\n",
      "  <style type=\"text/css\">\n",
      "    html * { padding:0; margin:0; }\n",
      "    body * { padding:10px 20px; }\n",
      "    body * * { padding:0; }\n",
      "    body { font:small sans-serif; background:#eee; color:#000; }\n",
      "    body>div { border-bottom:1px solid #ddd; }\n",
      "    h1 { font-weight:normal; margin-bottom:.4em; }\n",
      "    h1 span { font-size:60%; color:#666; font-weight:normal; }\n",
      "    table { border:none; border-collapse: collapse; width:100%; }\n",
      "    td, th { vertical-align:top; padding:2px 3px; }\n",
      "    th { width:12em; text-align:right; color:#666; padding-right:.5em; }\n",
      "    #info { background:#f6f6f6; }\n",
      "    #info ol { margin: 0.5em 4em; }\n",
      "    #info ol li { font-family: monospace; }\n",
      "    #summary { background: #ffc; }\n",
      "    #explanation { background:#eee; border-bottom: 0px none; }\n",
      "    pre.exception_value { font-family: sans-serif; color: #575757; font-size: 1.5em; margin: 10px 0 10px 0; }\n",
      "  </style>\n",
      "</head>\n",
      "<body>\n",
      "  <div id=\"summary\">\n",
      "    <h1>Page not found <span>(404)</span></h1>\n",
      "    \n",
      "    <table class=\"meta\">\n",
      "      <tr>\n",
      "        <th>Request Method:</th>\n",
      "        <td>GET</td>\n",
      "      </tr>\n",
      "      <tr>\n",
      "        <th>Request URL:</th>\n",
      "        <td>http://3.145.59.0:8000/api/download_ply/buck1.ply</td>\n",
      "      </tr>\n",
      "      \n",
      "    </table>\n",
      "  </div>\n",
      "  <div id=\"info\">\n",
      "    \n",
      "      <p>\n",
      "      Using the URLconf defined in <code>ply_cr_api.urls</code>,\n",
      "      Django tried these URL patterns, in this order:\n",
      "      </p>\n",
      "      <ol>\n",
      "        \n",
      "          <li>\n",
      "            \n",
      "                \n",
      "                [name='home']\n",
      "            \n",
      "          </li>\n",
      "        \n",
      "          <li>\n",
      "            \n",
      "                admin/\n",
      "                \n",
      "            \n",
      "          </li>\n",
      "        \n",
      "          <li>\n",
      "            \n",
      "                api/upload/\n",
      "                [name='upload-file']\n",
      "            \n",
      "          </li>\n",
      "        \n",
      "          <li>\n",
      "            \n",
      "                api/download_ply/\n",
      "                [name='download_ply']\n",
      "            \n",
      "          </li>\n",
      "        \n",
      "          <li>\n",
      "            \n",
      "                api/check_status/\n",
      "                [name='check_status']\n",
      "            \n",
      "          </li>\n",
      "        \n",
      "      </ol>\n",
      "      <p>\n",
      "        \n",
      "          The current path, <code>api/download_ply/buck1.ply</code>,\n",
      "        \n",
      "        didn’t match any of these.\n",
      "      </p>\n",
      "    \n",
      "  </div>\n",
      "\n",
      "  <div id=\"explanation\">\n",
      "    <p>\n",
      "      You’re seeing this error because you have <code>DEBUG = True</code> in\n",
      "      your Django settings file. Change that to <code>False</code>, and Django\n",
      "      will display a standard 404 page.\n",
      "    </p>\n",
      "  </div>\n",
      "</body>\n",
      "</html>\n",
      "\n"
     ]
    }
   ],
   "source": [
    "print(down_resp.text)"
   ]
  },
  {
   "cell_type": "code",
   "execution_count": null,
   "metadata": {},
   "outputs": [],
   "source": [
    "\n",
    "print(\"Writing PointCloud to \" + plypath)\n",
    "ply = open(plypath, 'wb')\n",
    "ply.write(api_output)\n",
    "ply.close()\n",
    "point_cloud = o3d.io.read_point_cloud(path)"
   ]
  },
  {
   "cell_type": "code",
   "execution_count": null,
   "metadata": {},
   "outputs": [],
   "source": [
    "pcd = o3d.io.read_point_cloud('./Point Clouds/set 1/brandon slow.ply')\n",
    "#point_cloud = pcd"
   ]
  },
  {
   "cell_type": "code",
   "execution_count": null,
   "metadata": {},
   "outputs": [],
   "source": [
    "mesh, measure_frame = reconstruct_extract(point_cloud)\n",
    "    #code to output the mesh and extracted data to a .obj and .csv\n",
    "print(\"Writing mesh to \" + meshpath)\n",
    "o3d.io.write_triangle_mesh(meshpath, mesh)\n",
    "print(\"Writing measurements to \" + dfpath)\n",
    "measure_frame.to_csv(dfpath)"
   ]
  },
  {
   "cell_type": "code",
   "execution_count": null,
   "metadata": {},
   "outputs": [],
   "source": [
    "\n",
    "print(\"Details:\")\n",
    "#print(\"Elapsed: \" + str(end-start) + \" seconds\")\n",
    "print(point_cloud)\n",
    "print(mesh)\n",
    "print(measure_frame.to_markdown())\n",
    "print(\"Files can be found at:\")\n",
    "print(abspath)"
   ]
  }
 ],
 "metadata": {
  "kernelspec": {
   "display_name": "Python 3",
   "language": "python",
   "name": "python3"
  },
  "language_info": {
   "codemirror_mode": {
    "name": "ipython",
    "version": 3
   },
   "file_extension": ".py",
   "mimetype": "text/x-python",
   "name": "python",
   "nbconvert_exporter": "python",
   "pygments_lexer": "ipython3",
   "version": "3.11.1"
  }
 },
 "nbformat": 4,
 "nbformat_minor": 2
}
