{
 "cells": [
  {
   "cell_type": "code",
   "execution_count": 6,
   "metadata": {},
   "outputs": [
    {
     "ename": "SyntaxError",
     "evalue": "invalid syntax (4045636274.py, line 1)",
     "output_type": "error",
     "traceback": [
      "\u001b[1;36m  Cell \u001b[1;32mIn[6], line 1\u001b[1;36m\u001b[0m\n\u001b[1;33m    pip install open3d\u001b[0m\n\u001b[1;37m        ^\u001b[0m\n\u001b[1;31mSyntaxError\u001b[0m\u001b[1;31m:\u001b[0m invalid syntax\n"
     ]
    }
   ],
   "source": [
    "#pip install open3d\n",
    "#pip install numpy\n",
    "#pip install requests\n",
    "#pip install pandas\n",
    "#pip install tabulate\n"
   ]
  },
  {
   "cell_type": "code",
   "execution_count": 1,
   "metadata": {},
   "outputs": [
    {
     "name": "stdout",
     "output_type": "stream",
     "text": [
      "Jupyter environment detected. Enabling Open3D WebVisualizer.\n",
      "[Open3D INFO] WebRTC GUI backend enabled.\n",
      "[Open3D INFO] WebRTCWindowSystem: HTTP handshake server disabled.\n"
     ]
    }
   ],
   "source": [
    "import open3d as o3d\n",
    "import numpy as np\n",
    "import pandas\n",
    "from timeit import default_timer as time\n",
    "from data_extraction import dataExtract\n",
    "from xenon_reconstruct_extract import reconstruct_extract\n",
    "from xenon_reconstruct_extract import build_path\n",
    "import tylmen_api_functions\n",
    "import os\n",
    "import requests\n",
    "\n",
    "filepath = './Point Clouds/set 1/brandon slow.ply'\n",
    "pcd = o3d.io.read_point_cloud(filepath)"
   ]
  },
  {
   "cell_type": "code",
   "execution_count": 2,
   "metadata": {},
   "outputs": [
    {
     "name": "stdout",
     "output_type": "stream",
     "text": [
      ".\\tylmen-xenon-out\\2024-04-22_11-57-37_717958\n",
      ".\\tylmen-xenon-out\\2024-04-22_11-57-37_717958\\pointcloud.ply\n",
      ".\\tylmen-xenon-out\\2024-04-22_11-57-37_717958\\mesh.obj\n",
      ".\\tylmen-xenon-out\\2024-04-22_11-57-37_717958\\measurements.csv\n",
      "c:\\Users\\night\\Documents\\GitHub\\3D-Human-Pose-Capstone\\model-gen-things\\tylmen-xenon-out\\2024-04-22_11-57-37_717958\n"
     ]
    }
   ],
   "source": [
    "path = build_path()\n",
    "plypath = os.path.join(path, 'pointcloud.ply')\n",
    "meshpath = os.path.join(path, 'mesh.obj')\n",
    "dfpath = os.path.join(path, 'measurements.csv')\n",
    "abspath = os.path.abspath(path)\n",
    "print(path + \"\\n\" + plypath + \"\\n\" + meshpath + \"\\n\" + dfpath + \"\\n\" + abspath)"
   ]
  },
  {
   "cell_type": "code",
   "execution_count": null,
   "metadata": {},
   "outputs": [],
   "source": [
    "api_test_path = \"C:/Users/night/Documents/current/Senior Design/bucktest.mp4\"\n",
    "dotmov = open(api_test_path, 'rb')\n",
    "tylmen_api_functions.api_upload_mov(dotmov)\n",
    "dotmov.close()"
   ]
  },
  {
   "cell_type": "code",
   "execution_count": 3,
   "metadata": {},
   "outputs": [
    {
     "name": "stdout",
     "output_type": "stream",
     "text": [
      "\n"
     ]
    }
   ],
   "source": [
    "\n",
    "status_url = \"http://3.145.59.0:8000/api/check_status/\"\n",
    "#tylmen_api_functions.api_get_sane_status(status_url)\n",
    "status_resp = requests.get(status_url)\n",
    "print(status_resp.text)"
   ]
  },
  {
   "cell_type": "code",
   "execution_count": null,
   "metadata": {},
   "outputs": [],
   "source": [
    "api_output = tylmen_api_functions.api_download_pipe()"
   ]
  },
  {
   "cell_type": "code",
   "execution_count": 6,
   "metadata": {},
   "outputs": [],
   "source": [
    "download_url = \"http://3.145.59.0:8000/api/download_ply/\"\n",
    "down_resp = requests.get(download_url)"
   ]
  },
  {
   "cell_type": "code",
   "execution_count": 7,
   "metadata": {},
   "outputs": [
    {
     "name": "stdout",
     "output_type": "stream",
     "text": [
      "<!DOCTYPE html>\n",
      "<html lang=\"en\">\n",
      "<head>\n",
      "  <meta http-equiv=\"content-type\" content=\"text/html; charset=utf-8\">\n",
      "  <title>Page not found at /api/download_ply/buck1.ply</title>\n",
      "  <meta name=\"robots\" content=\"NONE,NOARCHIVE\">\n",
      "  <style type=\"text/css\">\n",
      "    html * { padding:0; margin:0; }\n",
      "    body * { padding:10px 20px; }\n",
      "    body * * { padding:0; }\n",
      "    body { font:small sans-serif; background:#eee; color:#000; }\n",
      "    body>div { border-bottom:1px solid #ddd; }\n",
      "    h1 { font-weight:normal; margin-bottom:.4em; }\n",
      "    h1 span { font-size:60%; color:#666; font-weight:normal; }\n",
      "    table { border:none; border-collapse: collapse; width:100%; }\n",
      "    td, th { vertical-align:top; padding:2px 3px; }\n",
      "    th { width:12em; text-align:right; color:#666; padding-right:.5em; }\n",
      "    #info { background:#f6f6f6; }\n",
      "    #info ol { margin: 0.5em 4em; }\n",
      "    #info ol li { font-family: monospace; }\n",
      "    #summary { background: #ffc; }\n",
      "    #explanation { background:#eee; border-bottom: 0px none; }\n",
      "    pre.exception_value { font-family: sans-serif; color: #575757; font-size: 1.5em; margin: 10px 0 10px 0; }\n",
      "  </style>\n",
      "</head>\n",
      "<body>\n",
      "  <div id=\"summary\">\n",
      "    <h1>Page not found <span>(404)</span></h1>\n",
      "    \n",
      "    <table class=\"meta\">\n",
      "      <tr>\n",
      "        <th>Request Method:</th>\n",
      "        <td>GET</td>\n",
      "      </tr>\n",
      "      <tr>\n",
      "        <th>Request URL:</th>\n",
      "        <td>http://3.145.59.0:8000/api/download_ply/buck1.ply</td>\n",
      "      </tr>\n",
      "      \n",
      "    </table>\n",
      "  </div>\n",
      "  <div id=\"info\">\n",
      "    \n",
      "      <p>\n",
      "      Using the URLconf defined in <code>ply_cr_api.urls</code>,\n",
      "      Django tried these URL patterns, in this order:\n",
      "      </p>\n",
      "      <ol>\n",
      "        \n",
      "          <li>\n",
      "            \n",
      "                \n",
      "                [name='home']\n",
      "            \n",
      "          </li>\n",
      "        \n",
      "          <li>\n",
      "            \n",
      "                admin/\n",
      "                \n",
      "            \n",
      "          </li>\n",
      "        \n",
      "          <li>\n",
      "            \n",
      "                api/upload/\n",
      "                [name='upload-file']\n",
      "            \n",
      "          </li>\n",
      "        \n",
      "          <li>\n",
      "            \n",
      "                api/download_ply/\n",
      "                [name='download_ply']\n",
      "            \n",
      "          </li>\n",
      "        \n",
      "          <li>\n",
      "            \n",
      "                api/check_status/\n",
      "                [name='check_status']\n",
      "            \n",
      "          </li>\n",
      "        \n",
      "      </ol>\n",
      "      <p>\n",
      "        \n",
      "          The current path, <code>api/download_ply/buck1.ply</code>,\n",
      "        \n",
      "        didn’t match any of these.\n",
      "      </p>\n",
      "    \n",
      "  </div>\n",
      "\n",
      "  <div id=\"explanation\">\n",
      "    <p>\n",
      "      You’re seeing this error because you have <code>DEBUG = True</code> in\n",
      "      your Django settings file. Change that to <code>False</code>, and Django\n",
      "      will display a standard 404 page.\n",
      "    </p>\n",
      "  </div>\n",
      "</body>\n",
      "</html>\n",
      "\n"
     ]
    }
   ],
   "source": [
    "print(down_resp.text)"
   ]
  },
  {
   "cell_type": "code",
   "execution_count": null,
   "metadata": {},
   "outputs": [],
   "source": [
    "\n",
    "print(\"Writing PointCloud to \" + plypath)\n",
    "ply = open(plypath, 'wb')\n",
    "ply.write(api_output)\n",
    "ply.close()\n",
    "point_cloud = o3d.io.read_point_cloud(path)"
   ]
  },
  {
   "cell_type": "code",
   "execution_count": 3,
   "metadata": {},
   "outputs": [],
   "source": [
    "point_cloud = pcd"
   ]
  },
  {
   "cell_type": "code",
   "execution_count": 4,
   "metadata": {},
   "outputs": [
    {
     "name": "stdout",
     "output_type": "stream",
     "text": [
      "Beginning Processing\n",
      "Cropping floor\n",
      "Floor cropped in 1.2256815999999162 seconds\n",
      "Beginning Denoise...\n",
      "Initial Count 145821.0 Points\n",
      "Removing Bad/Dupe points before cleaning\n",
      "New Count 143186.0 Points, beginning passes\n",
      "Pass 1: 137027.0 Points in 0.5714689999995244 seconds\n",
      "Pass 2: 135571.0 Points in 0.4003121000005194 seconds\n",
      "Pass 3: 134314.0 Points in 1.0087492000002385 seconds\n",
      "Pass 4: 125043.0 Points in 0.4428013999995528 seconds\n",
      "Pass 5: 124980.0 Points in 0.489681400000336 seconds\n",
      "Denoise complete in 2.9131476000002294 seconds\n",
      "Measurements created\n",
      "Generating model with depth 7\n",
      "Generation complete in 0.7543680999997378 seconds\n",
      "Mesh Painted\n",
      "Processing completed in 5.368259700000635 seconds\n",
      "Writing mesh to .\\tylmen-xenon-out\\2024-04-22_11-57-37_717958\\mesh.obj\n",
      "Writing measurements to .\\tylmen-xenon-out\\2024-04-22_11-57-37_717958\\measurements.csv\n"
     ]
    }
   ],
   "source": [
    "mesh, measure_frame = reconstruct_extract(point_cloud)\n",
    "    #code to output the mesh and extracted data to a .obj and .csv\n",
    "print(\"Writing mesh to \" + meshpath)\n",
    "o3d.io.write_triangle_mesh(meshpath, mesh)\n",
    "print(\"Writing measurements to \" + dfpath)\n",
    "measure_frame.to_csv(dfpath)"
   ]
  },
  {
   "cell_type": "code",
   "execution_count": 5,
   "metadata": {},
   "outputs": [
    {
     "name": "stdout",
     "output_type": "stream",
     "text": [
      "Details:\n",
      "PointCloud with 1000831 points.\n",
      "TriangleMesh with 8661 points and 17314 triangles.\n",
      "|    |   height |   wingspan |   waist-cir |   chest-cir |\n",
      "|---:|---------:|-----------:|------------:|------------:|\n",
      "|  0 | 0.526184 |    0.63136 |    0.267224 |    0.286875 |\n",
      "Files can be found at:\n",
      "c:\\Users\\night\\Documents\\GitHub\\3D-Human-Pose-Capstone\\model-gen-things\\tylmen-xenon-out\\2024-04-22_11-57-37_717958\n"
     ]
    }
   ],
   "source": [
    "\n",
    "print(\"Details:\")\n",
    "#print(\"Elapsed: \" + str(end-start) + \" seconds\")\n",
    "print(point_cloud)\n",
    "print(mesh)\n",
    "print(measure_frame.to_markdown())\n",
    "print(\"Files can be found at:\")\n",
    "print(abspath)"
   ]
  }
 ],
 "metadata": {
  "kernelspec": {
   "display_name": "Python 3",
   "language": "python",
   "name": "python3"
  },
  "language_info": {
   "codemirror_mode": {
    "name": "ipython",
    "version": 3
   },
   "file_extension": ".py",
   "mimetype": "text/x-python",
   "name": "python",
   "nbconvert_exporter": "python",
   "pygments_lexer": "ipython3",
   "version": "3.11.1"
  }
 },
 "nbformat": 4,
 "nbformat_minor": 2
}
