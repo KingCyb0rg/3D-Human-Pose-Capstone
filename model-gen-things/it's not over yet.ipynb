{
 "cells": [
  {
   "cell_type": "code",
   "execution_count": 19,
   "metadata": {},
   "outputs": [],
   "source": [
    "import open3d as o3d\n",
    "import numpy as np\n",
    "import pandas\n",
    "from timeit import default_timer as time\n",
    "import model_gen_functions\n",
    "from data_extraction import dataExtract\n",
    "from reconstruct_extract import reconstruct_extract\n",
    "import tylmen_api_functions\n",
    "\n",
    "filepath = './Point Clouds/set 1/brandon slow.ply'\n",
    "pcd = o3d.io.read_point_cloud(filepath)"
   ]
  },
  {
   "cell_type": "code",
   "execution_count": 25,
   "metadata": {},
   "outputs": [],
   "source": [
    "def cloud_denoise(cloud: o3d.geometry.PointCloud, passes = 5, silent=False):\n",
    "    #if you know of a more readable way to do this please tell me\n",
    "    if(silent==False):\n",
    "        start = time()\n",
    "        print(\"Beginning Denoise...\")\n",
    "    \n",
    "    if(passes <= 0):\n",
    "        #will always output to console, unsure how you would end up with this happening (command will not accept 0) but here it is\n",
    "        print(\"Denoise started with zero passes, aborting\")\n",
    "    if(passes >= 1):\n",
    "        \n",
    "        if(silent==False):\n",
    "        \n",
    "            print(\"Initial Count \" + str((np.asarray(cloud.points).size)/3) + \" Points\")\n",
    "            print(\"Removing Bad/Dupe points before cleaning\")\n",
    "        prepared_cloud = cloud.remove_duplicated_points()\n",
    "        prepared_cloud = prepared_cloud.remove_non_finite_points()\n",
    "        if(silent==False):\n",
    "            print(\"New Count \" + str((np.asarray(prepared_cloud.points).size)/3) + \" Points, beginning passes\")\n",
    "        denoise_cloud, ind = cloud.remove_statistical_outlier(nb_neighbors=15, std_ratio=1.2) #std_ratio is the standard deviation a point must be \n",
    "        if(silent==False):\n",
    "            p1 = time()\n",
    "            print(\"Pass 1: \" + str((np.asarray(denoise_cloud.points).size)/3) + \" Points in \" + str(p1 - start) + \" seconds\")\n",
    "    if(passes >= 2):\n",
    "        denoise_cloud, ind = denoise_cloud.remove_statistical_outlier(nb_neighbors=25, std_ratio=1.7)\n",
    "        if(silent==False):\n",
    "            p2 = time()\n",
    "            print(\"Pass 2: \" + str((np.asarray(denoise_cloud.points).size)/3) + \" Points in \" + str(p2 - p1) + \" seconds\")\n",
    "    if(passes >= 3):\n",
    "        denoise_cloud, ind = denoise_cloud.remove_statistical_outlier(nb_neighbors=100, std_ratio=2.0)\n",
    "        if(silent==False):\n",
    "            p3 = time()\n",
    "            print(\"Pass 3: \" + str((np.asarray(denoise_cloud.points).size)/3) + \" Points in \" + str(p3 - p2) + \" seconds\")\n",
    "    if(passes >= 4):\n",
    "        denoise_cloud, ind = denoise_cloud.remove_statistical_outlier(nb_neighbors=30, std_ratio=1.5)\n",
    "        if(silent==False):\n",
    "            p4 = time()\n",
    "            print(\"Pass 4: \" + str((np.asarray(denoise_cloud.points).size)/3) + \" Points in \" + str(p4 - p3) + \" seconds\")\n",
    "    if(passes >= 5):\n",
    "        denoise_cloud, ind = denoise_cloud.remove_statistical_outlier(nb_neighbors=50, std_ratio=1.8)\n",
    "        if(silent==False):\n",
    "            p5 = time()\n",
    "            print(\"Pass 5: \" + str((np.asarray(denoise_cloud.points).size)/3) + \" Points in \" + str(p5 - p4) + \" seconds\")\n",
    "\n",
    "    if(passes > 5):\n",
    "        if(silent==False):\n",
    "            pprevious = p5\n",
    "        for x in range(passes - 5):\n",
    "            denoise_cloud, ind = denoise_cloud.remove_statistical_outlier(nb_neighbors=30, std_ratio=1.8) #repeatable medium filter\n",
    "            #going past 7 passes is very likely to completely decimate the model, 5 was already pushing it in some test cases. adjust to needs\n",
    "            if(silent==False):\n",
    "                ploop = time()\n",
    "                print(\"Pass \" + (x+5) +\": \" + str((np.asarray(denoise_cloud.points).size)/3) + \" Points in \" + str(ploop - pprevious) + \" seconds\")\n",
    "                pprevious = ploop\n",
    "\n",
    "    if(passes > 0):\n",
    "        if(silent==False):\n",
    "            end = time()\n",
    "            print(\"Denoise complete in \" + str(end - start) + \" seconds\")\n",
    "        return denoise_cloud\n",
    "    else:\n",
    "        return cloud\n"
   ]
  },
  {
   "cell_type": "code",
   "execution_count": 21,
   "metadata": {},
   "outputs": [
    {
     "name": "stdout",
     "output_type": "stream",
     "text": [
      "Cropping floor\n",
      "Floor cropped in 1.2353479000012157 seconds\n"
     ]
    },
    {
     "data": {
      "text/plain": [
       "open3d.cpu.pybind.geometry.PointCloud"
      ]
     },
     "execution_count": 21,
     "metadata": {},
     "output_type": "execute_result"
    }
   ],
   "source": [
    "cut_pcd = model_gen_functions.cut_floor(pcd)\n",
    "type(cut_pcd)"
   ]
  },
  {
   "cell_type": "code",
   "execution_count": 26,
   "metadata": {},
   "outputs": [
    {
     "name": "stdout",
     "output_type": "stream",
     "text": [
      "Beginning Denoise...\n",
      "Initial Count 147298.0 Points\n",
      "Removing Bad/Dupe points before cleaning\n",
      "New Count 147298.0 Points, beginning passes\n",
      "Pass 1: 139307.0 Points in 0.41462890000002517 seconds\n",
      "Pass 2: 137475.0 Points in 0.3809578000000329 seconds\n",
      "Pass 3: 135659.0 Points in 1.2069179999998596 seconds\n",
      "Pass 4: 127430.0 Points in 0.49048559999937424 seconds\n",
      "Pass 5: 127384.0 Points in 0.4501801999995223 seconds\n",
      "Denoise complete in 2.943255099999078 seconds\n"
     ]
    }
   ],
   "source": [
    "denoise_cloud = cloud_denoise(cut_pcd, passes=5)"
   ]
  },
  {
   "cell_type": "code",
   "execution_count": 27,
   "metadata": {},
   "outputs": [
    {
     "name": "stdout",
     "output_type": "stream",
     "text": [
      "[Open3D WARNING] GLFW Error: WGL: Failed to make context current: The handle is invalid. \n",
      "[Open3D WARNING] GLFW Error: WGL: Failed to make context current: The handle is invalid. \n",
      "[Open3D WARNING] GLFW Error: WGL: Failed to make context current: The handle is invalid. \n",
      "[Open3D WARNING] GLFW Error: WGL: Failed to make context current: The handle is invalid. \n",
      "[Open3D WARNING] GLFW Error: WGL: Failed to make context current: The handle is invalid. \n",
      "[Open3D WARNING] GLFW Error: WGL: Failed to make context current: The requested transformation operation is not supported. \n",
      "[Open3D WARNING] GLFW Error: WGL: Failed to make context current: The handle is invalid. \n",
      "[Open3D WARNING] GLFW Error: WGL: Failed to make context current: The requested transformation operation is not supported. \n"
     ]
    }
   ],
   "source": [
    "o3d.visualization.draw_geometries([denoise_cloud])"
   ]
  },
  {
   "cell_type": "code",
   "execution_count": 8,
   "metadata": {},
   "outputs": [],
   "source": [
    "def cloud_denoise2(cloud, stat_passes = 3, hush = False):\n",
    "    #basic steps i should have added ages ago\n",
    "    prepared_cloud = cloud.remove_duplicated_points()\n",
    "    prepared_cloud = prepared_cloud.remove_non_finite_points()\n",
    "\n",
    "    #bounds = prepared_cloud.get_axis_aligned_bounding_box() #Didn't expect me, did ya?\n",
    "    #high_bound = bounds.get_max_bound()[2] \n",
    "    #low_bound = bounds.get_min_bound()[2]\n",
    "    #height = high_bound - low_bound #necessary for radius steps, as to prevent errors, the radius will be a percentage of the height\n",
    "    \n",
    "    #The Washing Machine\n",
    "    denoised_cloud, ind = prepared_cloud.remove_statistical_outlier(nb_neighbors=25, std_ratio=1.2)\n",
    "    denoised_cloud, ind = denoised_cloud.remove_statistical_outlier(nb_neighbors=100, std_ratio=1.8)\n",
    "    denoised_cloud, ind = denoised_cloud.remove_statistical_outlier(nb_neighbors=40, std_ratio=1.8)\n",
    "    #denoised_cloud, ind = denoised_cloud.remove_radius_outlier(nb_neighbors=40, radius=float(0.08 * height))\n",
    "    \n",
    "    return denoised_cloud\n",
    "    "
   ]
  },
  {
   "cell_type": "code",
   "execution_count": 9,
   "metadata": {},
   "outputs": [
    {
     "ename": "TypeError",
     "evalue": "remove_radius_outlier(): incompatible function arguments. The following argument types are supported:\n    1. (self: open3d.cpu.pybind.geometry.PointCloud, nb_points: int, radius: float, print_progress: bool = False) -> Tuple[open3d.cpu.pybind.geometry.PointCloud, List[int]]\n\nInvoked with: PointCloud with 134926 points.; kwargs: nb_neighbors=30, radius=0.03001359388232231",
     "output_type": "error",
     "traceback": [
      "\u001b[1;31m---------------------------------------------------------------------------\u001b[0m",
      "\u001b[1;31mTypeError\u001b[0m                                 Traceback (most recent call last)",
      "Cell \u001b[1;32mIn[9], line 1\u001b[0m\n\u001b[1;32m----> 1\u001b[0m denoise2_cloud \u001b[38;5;241m=\u001b[39m \u001b[43mcloud_denoise2\u001b[49m\u001b[43m(\u001b[49m\u001b[43mcut_pcd\u001b[49m\u001b[43m)\u001b[49m\n",
      "Cell \u001b[1;32mIn[8], line 15\u001b[0m, in \u001b[0;36mcloud_denoise2\u001b[1;34m(cloud, stat_passes, hush)\u001b[0m\n\u001b[0;32m     13\u001b[0m denoised_cloud, ind \u001b[38;5;241m=\u001b[39m denoised_cloud\u001b[38;5;241m.\u001b[39mremove_statistical_outlier(nb_neighbors\u001b[38;5;241m=\u001b[39m\u001b[38;5;241m100\u001b[39m, std_ratio\u001b[38;5;241m=\u001b[39m\u001b[38;5;241m1.8\u001b[39m)\n\u001b[0;32m     14\u001b[0m rad \u001b[38;5;241m=\u001b[39m \u001b[38;5;28mfloat\u001b[39m(\u001b[38;5;241m0.03\u001b[39m \u001b[38;5;241m*\u001b[39m height)\n\u001b[1;32m---> 15\u001b[0m denoised_cloud, ind \u001b[38;5;241m=\u001b[39m \u001b[43mdenoised_cloud\u001b[49m\u001b[38;5;241;43m.\u001b[39;49m\u001b[43mremove_radius_outlier\u001b[49m\u001b[43m(\u001b[49m\u001b[43mnb_neighbors\u001b[49m\u001b[38;5;241;43m=\u001b[39;49m\u001b[38;5;241;43m30\u001b[39;49m\u001b[43m,\u001b[49m\u001b[43m \u001b[49m\u001b[43mradius\u001b[49m\u001b[38;5;241;43m=\u001b[39;49m\u001b[43mrad\u001b[49m\u001b[43m)\u001b[49m\n\u001b[0;32m     16\u001b[0m denoised_cloud, ind \u001b[38;5;241m=\u001b[39m denoised_cloud\u001b[38;5;241m.\u001b[39mremove_statistical_outlier(nb_neighbors\u001b[38;5;241m=\u001b[39m\u001b[38;5;241m40\u001b[39m, std_ratio\u001b[38;5;241m=\u001b[39m\u001b[38;5;241m1.8\u001b[39m)\n\u001b[0;32m     17\u001b[0m denoised_cloud, ind \u001b[38;5;241m=\u001b[39m denoised_cloud\u001b[38;5;241m.\u001b[39mremove_radius_outlier(nb_neighbors\u001b[38;5;241m=\u001b[39m\u001b[38;5;241m40\u001b[39m, radius\u001b[38;5;241m=\u001b[39m\u001b[38;5;28mfloat\u001b[39m(\u001b[38;5;241m0.08\u001b[39m \u001b[38;5;241m*\u001b[39m height))\n",
      "\u001b[1;31mTypeError\u001b[0m: remove_radius_outlier(): incompatible function arguments. The following argument types are supported:\n    1. (self: open3d.cpu.pybind.geometry.PointCloud, nb_points: int, radius: float, print_progress: bool = False) -> Tuple[open3d.cpu.pybind.geometry.PointCloud, List[int]]\n\nInvoked with: PointCloud with 134926 points.; kwargs: nb_neighbors=30, radius=0.03001359388232231"
     ]
    }
   ],
   "source": [
    "denoise2_cloud = cloud_denoise2(cut_pcd)"
   ]
  },
  {
   "cell_type": "code",
   "execution_count": null,
   "metadata": {},
   "outputs": [],
   "source": [
    "o3d.visualization.draw_geometries([denoise_cloud])"
   ]
  }
 ],
 "metadata": {
  "kernelspec": {
   "display_name": "Python 3",
   "language": "python",
   "name": "python3"
  },
  "language_info": {
   "codemirror_mode": {
    "name": "ipython",
    "version": 3
   },
   "file_extension": ".py",
   "mimetype": "text/x-python",
   "name": "python",
   "nbconvert_exporter": "python",
   "pygments_lexer": "ipython3",
   "version": "3.11.1"
  }
 },
 "nbformat": 4,
 "nbformat_minor": 2
}
