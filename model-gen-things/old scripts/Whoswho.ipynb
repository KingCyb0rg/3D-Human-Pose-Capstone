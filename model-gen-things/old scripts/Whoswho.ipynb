{
 "cells": [
  {
   "cell_type": "code",
   "execution_count": 1,
   "metadata": {},
   "outputs": [
    {
     "name": "stdout",
     "output_type": "stream",
     "text": [
      "Jupyter environment detected. Enabling Open3D WebVisualizer.\n",
      "[Open3D INFO] WebRTC GUI backend enabled.\n",
      "[Open3D INFO] WebRTCWindowSystem: HTTP handshake server disabled.\n",
      "[PointCloud with 1002237 points., PointCloud with 1002094 points., PointCloud with 1001725 points., PointCloud with 999416 points., PointCloud with 1002021 points., PointCloud with 1000354 points.]\n"
     ]
    }
   ],
   "source": [
    "import open3d as o3d\n",
    "import numpy as np\n",
    "#replace with proper io once implementation happens\n",
    "filepaths = [\"./Demo/cloudscloudscloudsclouds/set 2/vid1.ply\", \"./Demo/cloudscloudscloudsclouds/set 2/vid2.ply\", \n",
    "             \"./Demo/cloudscloudscloudsclouds/set 2/vid3.ply\", \"./Demo/cloudscloudscloudsclouds/set 2/vid4.ply\", \n",
    "             \"./Demo/cloudscloudscloudsclouds/set 2/vid5.ply\", \"./Demo/cloudscloudscloudsclouds/set 2/vid6.ply\"]\n",
    "pcds = []\n",
    "dummy = 0\n",
    "for i in filepaths:\n",
    "    pcds.append(o3d.io.read_point_cloud(i))\n",
    "print(pcds)"
   ]
  },
  {
   "cell_type": "code",
   "execution_count": null,
   "metadata": {},
   "outputs": [],
   "source": [
    "for i in range(0,6):\n",
    "    pcds[i], dummy = pcds[i].remove_statistical_outlier(nb_neighbors=20,\n",
    "                                                    std_ratio=1.7)"
   ]
  },
  {
   "cell_type": "code",
   "execution_count": 2,
   "metadata": {},
   "outputs": [
    {
     "name": "stdout",
     "output_type": "stream",
     "text": [
      "[Open3D WARNING] GLFW Error: WGL: Failed to make context current: The requested transformation operation is not supported. \n",
      "[Open3D WARNING] GLFW Error: WGL: Failed to make context current: The handle is invalid. \n",
      "[Open3D WARNING] GLFW Error: WGL: Failed to make context current: The requested transformation operation is not supported. \n",
      "[Open3D WARNING] GLFW Error: WGL: Failed to make context current: The handle is invalid. \n",
      "[Open3D WARNING] GLFW Error: WGL: Failed to make context current: The requested transformation operation is not supported. \n"
     ]
    }
   ],
   "source": [
    "for i in pcds:\n",
    "    o3d.visualization.draw_geometries([i])"
   ]
  }
 ],
 "metadata": {
  "kernelspec": {
   "display_name": ".venv",
   "language": "python",
   "name": "python3"
  },
  "language_info": {
   "codemirror_mode": {
    "name": "ipython",
    "version": 3
   },
   "file_extension": ".py",
   "mimetype": "text/x-python",
   "name": "python",
   "nbconvert_exporter": "python",
   "pygments_lexer": "ipython3",
   "version": "3.11.1"
  }
 },
 "nbformat": 4,
 "nbformat_minor": 2
}
