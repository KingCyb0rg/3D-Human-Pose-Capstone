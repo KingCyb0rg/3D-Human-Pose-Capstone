{
 "cells": [
  {
   "cell_type": "markdown",
   "metadata": {},
   "source": [
    "Do not use 'Run All' as this notebook opens external windows. Not tested on web-based notebook services"
   ]
  },
  {
   "cell_type": "code",
   "execution_count": null,
   "metadata": {},
   "outputs": [],
   "source": [
    "#Open3d requires python 3.11, available with\n",
    "#pip install open3d"
   ]
  },
  {
   "cell_type": "code",
   "execution_count": null,
   "metadata": {},
   "outputs": [],
   "source": [
    "import open3d as o3d\n",
    "\n",
    "filepath = './man.ply' #man.ply is a sample point cloud downloaded from SketchFab, used for testing. \n",
    "pcd = o3d.io.read_point_cloud(filepath)"
   ]
  },
  {
   "cell_type": "code",
   "execution_count": null,
   "metadata": {},
   "outputs": [],
   "source": [
    "pcd.paint_uniform_color([0.4,0.9,0.2])\n",
    "o3d.visualization.draw_geometries([pcd])\n",
    "\n",
    "#Opens a new window for viewing, with standard 3d viewer controls. \n",
    "#This viewer will likely not be usable for the final design and is solely for demonstration.\n",
    "#(Cell execution hangs while a viewer is open, close it to continue)"
   ]
  },
  {
   "cell_type": "code",
   "execution_count": null,
   "metadata": {},
   "outputs": [],
   "source": [
    "pcd = pcd.voxel_down_sample(voxel_size=0.005) #Significantly reduces number of points without losing fidelity\n",
    "pcd.estimate_normals(\n",
    "    search_param=o3d.geometry.KDTreeSearchParamHybrid(radius=0.1, max_nn=30)) #Normal estimation required for reconstruction\n",
    "\n",
    "#This cleanup does not account for point clouds having objects other than the subject in them, such as the floor.\n",
    "#A method to detect and remove extra objects from the point cloud is currently in development."
   ]
  },
  {
   "cell_type": "markdown",
   "metadata": {},
   "source": [
    "High-Detail Model"
   ]
  },
  {
   "cell_type": "code",
   "execution_count": null,
   "metadata": {},
   "outputs": [],
   "source": [
    "d = 7 #This algorithm takes in a variable to determine depth, which affects how many subdivisions are performed\n",
    "pmesh, densities = o3d.geometry.TriangleMesh.create_from_point_cloud_poisson(\n",
    "        pcd, depth=d)"
   ]
  },
  {
   "cell_type": "code",
   "execution_count": null,
   "metadata": {},
   "outputs": [],
   "source": [
    "pmesh.paint_uniform_color([0.1,0.7,0.5])\n",
    "o3d.visualization.draw_geometries([pmesh], mesh_show_wireframe=True) #Solid-color meshes with normals are difficult to see with no wireframe"
   ]
  },
  {
   "cell_type": "markdown",
   "metadata": {},
   "source": [
    "Low-Detail Model"
   ]
  },
  {
   "cell_type": "code",
   "execution_count": null,
   "metadata": {},
   "outputs": [],
   "source": [
    "d2 = 4 #Reducing the depth significantly reduces the complexity of the model and processing burden\n",
    "pmesh2, densities2 = o3d.geometry.TriangleMesh.create_from_point_cloud_poisson(\n",
    "        pcd, depth=d2)"
   ]
  },
  {
   "cell_type": "code",
   "execution_count": null,
   "metadata": {},
   "outputs": [],
   "source": [
    "pmesh2.paint_uniform_color([0.4,0.1,0.7])\n",
    "o3d.visualization.draw_geometries([pmesh2], mesh_show_wireframe=True) "
   ]
  }
 ],
 "metadata": {
  "kernelspec": {
   "display_name": "Python 3",
   "language": "python",
   "name": "python3"
  },
  "language_info": {
   "codemirror_mode": {
    "name": "ipython",
    "version": 3
   },
   "file_extension": ".py",
   "mimetype": "text/x-python",
   "name": "python",
   "nbconvert_exporter": "python",
   "pygments_lexer": "ipython3",
   "version": "3.11.1"
  }
 },
 "nbformat": 4,
 "nbformat_minor": 2
}
